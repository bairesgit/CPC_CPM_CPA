{
 "cells": [
  {
   "cell_type": "code",
   "execution_count": 5,
   "id": "35ffc54a",
   "metadata": {},
   "outputs": [
    {
     "name": "stdout",
     "output_type": "stream",
     "text": [
      "CPM 5.0\n"
     ]
    }
   ],
   "source": [
    "# CPC_CPM_CPA\n",
    "\n",
    "'''\n",
    "CPM\n",
    "\n",
    "Cost per thousand impressions, is a metric that represents the cost generated every thousand impressions of the ad. Obviously they are not literal impressions, but the number of times that certain advertising was displayed to the public on the Internet.\n",
    "\n",
    "also called cost per mille\n",
    " \n",
    "The total cost of item 1 is $50, since:\n",
    "\n",
    "5 = Cost/(10.000/1.000)\n",
    "\n",
    "Cost = 5 x 10\n",
    "\n",
    "Cost = $ 50\n",
    "'''\n",
    "\n",
    "total_cost = 50 # USD\n",
    "visualizations = 10000\n",
    "CPM = total_cost / (visualizations/1000)\n",
    "\n",
    "print(f\"CPM {CPM}\")\n"
   ]
  },
  {
   "cell_type": "code",
   "execution_count": 7,
   "id": "5a493c65",
   "metadata": {},
   "outputs": [
    {
     "name": "stdout",
     "output_type": "stream",
     "text": [
      "CPC 0.005\n"
     ]
    }
   ],
   "source": [
    "'''\n",
    "CPC\n",
    "\n",
    "Cost per click.\n",
    "It is a way of collecting paid ads in which payment is made for a number of clicks made. That is, the advertiser pays for the visitors who come to the site where the ad was made for their site.\n",
    "\n",
    "The total cost of item 1 is $50:\n",
    "\n",
    "'''\n",
    "\n",
    "total_cost = 50 # USD\n",
    "clicks_number = 10000\n",
    "CPC = total_cost / (clicks_number)\n",
    "\n",
    "print(f\"CPC {CPC}\")"
   ]
  },
  {
   "cell_type": "code",
   "execution_count": 9,
   "id": "97db989b",
   "metadata": {},
   "outputs": [
    {
     "name": "stdout",
     "output_type": "stream",
     "text": [
      "CPA 30.0\n"
     ]
    }
   ],
   "source": [
    "'''\n",
    "CPA\n",
    "\n",
    "cost per acquisition.\n",
    "Among the three options that we present in this post, it is the most expensive, since you only pay when you achieve the final objective of your campaign — the download of free material, a sale, among others.\n",
    "\n",
    "Let's say you offer online courses and you've spent $1,500 on ads, earning 50 enrollments. What is the cost per acquisition?\n",
    "\n",
    "CPA = 1500/50\n",
    "\n",
    "CPA = 30\n",
    "'''\n",
    "\n",
    "total_invested = 1500 # USD\n",
    "convertions_number = 50\n",
    "CPA = total_invested / (convertions_number)\n",
    "\n",
    "print(f\"CPA {CPA}\")"
   ]
  }
 ],
 "metadata": {
  "kernelspec": {
   "display_name": "Python 3 (ipykernel)",
   "language": "python",
   "name": "python3"
  },
  "language_info": {
   "codemirror_mode": {
    "name": "ipython",
    "version": 3
   },
   "file_extension": ".py",
   "mimetype": "text/x-python",
   "name": "python",
   "nbconvert_exporter": "python",
   "pygments_lexer": "ipython3",
   "version": "3.9.12"
  }
 },
 "nbformat": 4,
 "nbformat_minor": 5
}
